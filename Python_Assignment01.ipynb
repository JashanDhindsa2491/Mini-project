{
  "nbformat": 4,
  "nbformat_minor": 0,
  "metadata": {
    "colab": {
      "provenance": [],
      "authorship_tag": "ABX9TyNhJIFGiLfhyJJNMBRZ0KOG",
      "include_colab_link": true
    },
    "kernelspec": {
      "name": "python3",
      "display_name": "Python 3"
    },
    "language_info": {
      "name": "python"
    }
  },
  "cells": [
    {
      "cell_type": "markdown",
      "metadata": {
        "id": "view-in-github",
        "colab_type": "text"
      },
      "source": [
        "<a href=\"https://colab.research.google.com/github/JashanDhindsa2491/Mini-project/blob/main/Python_Assignment01.ipynb\" target=\"_parent\"><img src=\"https://colab.research.google.com/assets/colab-badge.svg\" alt=\"Open In Colab\"/></a>"
      ]
    },
    {
      "cell_type": "code",
      "execution_count": null,
      "metadata": {
        "colab": {
          "base_uri": "https://localhost:8080/"
        },
        "id": "Bi1dai9UgMbj",
        "outputId": "6fa94d2e-60dc-4908-94a4-2bb318e05d88"
      },
      "outputs": [
        {
          "output_type": "stream",
          "name": "stdout",
          "text": [
            "13 found in L: False\n",
            "Number of elements in L: 4\n",
            "Sum of elements in L: 136\n",
            "Sum of odd numbers: 0\n",
            "Sum of even numbers: 136\n",
            "Sum of prime numbers: 0\n"
          ]
        }
      ],
      "source": [
        "# Initial list\n",
        "L = [11, 12, 13, 14]\n",
        "\n",
        "# (i) Add 50 and 60 to L\n",
        "L.append(50)\n",
        "L.append(60)\n",
        "\n",
        "# (ii) Remove 11 and 13 from L\n",
        "L.remove(11)\n",
        "L.remove(13)\n",
        "\n",
        "# (iii) Sort L in ascending order\n",
        "L.sort()\n",
        "\n",
        "# (iv) Sort L in descending order\n",
        "L.sort(reverse=True)\n",
        "\n",
        "# (v) Search for 13 in L\n",
        "found = 13 in L\n",
        "print(\"13 found in L:\", found)\n",
        "\n",
        "# (vi) Count the number of elements in L\n",
        "print(\"Number of elements in L:\", len(L))\n",
        "\n",
        "# (vii) Sum all the elements in L\n",
        "print(\"Sum of elements in L:\", sum(L))\n",
        "\n",
        "# (viii) Sum all ODD numbers in L\n",
        "odd_sum = sum(x for x in L if x % 2 != 0)\n",
        "print(\"Sum of odd numbers:\", odd_sum)\n",
        "\n",
        "# (ix) Sum all EVEN numbers in L\n",
        "even_sum = sum(x for x in L if x % 2 == 0)\n",
        "print(\"Sum of even numbers:\", even_sum)\n",
        "\n",
        "# (x) Sum all PRIME numbers in L\n",
        "def is_prime(n):\n",
        "    if n < 2: return False\n",
        "    for i in range(2, int(n**0.5) + 1):\n",
        "        if n % i == 0:\n",
        "            return False\n",
        "    return True\n",
        "\n",
        "prime_sum = sum(x for x in L if is_prime(x))\n",
        "print(\"Sum of prime numbers:\", prime_sum)\n",
        "\n",
        "# (xi) Clear all elements in L\n",
        "L.clear()\n",
        "\n",
        "# (xii) Delete L\n",
        "del L\n"
      ]
    },
    {
      "cell_type": "code",
      "source": [
        "# Initial dictionary\n",
        "D = {1: 5.6, 2: 7.8, 3: 6.6, 4: 8.7, 5: 7.7}\n",
        "\n",
        "# (i) Add new entry (key=8, value=8.8)\n",
        "D[8] = 8.8\n",
        "\n",
        "# (ii) Remove key=2\n",
        "D.pop(2, None)\n",
        "\n",
        "# (iii) Check if key=6 is present\n",
        "print(\"Is key 6 present in D?\", 6 in D)\n",
        "\n",
        "# (iv) Count the number of elements\n",
        "print(\"Number of elements in D:\", len(D))\n",
        "\n",
        "# (v) Sum of all values\n",
        "print(\"Sum of values:\", sum(D.values()))\n",
        "\n",
        "# (vi) Update value of key 3 to 7.1\n",
        "D[3] = 7.1\n",
        "\n",
        "# (vii) Clear dictionary\n",
        "D.clear()\n"
      ],
      "metadata": {
        "colab": {
          "base_uri": "https://localhost:8080/"
        },
        "id": "lqUsdqnviSll",
        "outputId": "ac24f823-9455-41df-c13b-b7a85f834c46"
      },
      "execution_count": null,
      "outputs": [
        {
          "output_type": "stream",
          "name": "stdout",
          "text": [
            "Is key 6 present in D? False\n",
            "Number of elements in D: 5\n",
            "Sum of values: 37.4\n"
          ]
        }
      ]
    },
    {
      "cell_type": "code",
      "source": [
        "S1 = {10, 20, 30, 40, 50, 60}\n",
        "S2 = {40, 50, 60, 70, 80, 90}\n",
        "\n",
        "# (i) Add 55 and 66 to Set S1\n",
        "S1.add(55)\n",
        "S1.add(66)\n",
        "\n",
        "# (ii) Remove 10 and 30 from Set S1\n",
        "S1.discard(10)\n",
        "S1.discard(30)\n",
        "\n",
        "# (iii) Check whether 40 is present in S1\n",
        "print(\"40 is in S1:\", 40 in S1)\n",
        "\n",
        "# (iv) Union between S1 and S2\n",
        "print(\"Union:\", S1.union(S2))\n",
        "\n",
        "# (v) Intersection between S1 and S2\n",
        "print(\"Intersection:\", S1.intersection(S2))\n",
        "\n",
        "# (vi) S1 - S2\n",
        "print(\"S1 - S2:\", S1.difference(S2))\n"
      ],
      "metadata": {
        "colab": {
          "base_uri": "https://localhost:8080/"
        },
        "id": "Vr78OLrUiqjK",
        "outputId": "f261d399-ccc9-42f4-a1f0-eecc2ba758eb"
      },
      "execution_count": null,
      "outputs": [
        {
          "output_type": "stream",
          "name": "stdout",
          "text": [
            "40 is in S1: True\n",
            "Union: {66, 70, 40, 80, 50, 20, 55, 90, 60}\n",
            "Intersection: {40, 50, 60}\n",
            "S1 - S2: {66, 20, 55}\n"
          ]
        }
      ]
    },
    {
      "cell_type": "code",
      "source": [
        "import random\n",
        "import string\n",
        "\n",
        "# (i) Print 100 random strings with length between 6 and 8\n",
        "for _ in range(100):\n",
        "    length = random.randint(6, 8)\n",
        "    rand_str = ''.join(random.choices(string.ascii_letters + string.digits, k=length))\n",
        "    print(rand_str)\n",
        "\n",
        "# (ii) Prime numbers between 600 and 800\n",
        "def is_prime(n):\n",
        "    if n < 2: return False\n",
        "    for i in range(2, int(n**0.5)+1):\n",
        "        if n % i == 0: return False\n",
        "    return True\n",
        "\n",
        "primes = [n for n in range(600, 801) if is_prime(n)]\n",
        "print(\"Primes between 600 and 800:\", primes)\n",
        "\n",
        "# (iii) Numbers between 100 and 1000 divisible by both 7 and 9\n",
        "div_by_7_and_9 = [n for n in range(100, 1001) if n % 7 == 0 and n % 9 == 0]\n",
        "print(\"Divisible by 7 and 9:\", div_by_7_and_9)\n"
      ],
      "metadata": {
        "colab": {
          "base_uri": "https://localhost:8080/"
        },
        "id": "lcmAepyhiwBb",
        "outputId": "416c93f2-71fe-4a16-b64c-0568e916d056"
      },
      "execution_count": null,
      "outputs": [
        {
          "output_type": "stream",
          "name": "stdout",
          "text": [
            "Hz8ZRMdG\n",
            "ZPTX2b\n",
            "xkvl6SrS\n",
            "ECfJmYL\n",
            "c4vrsz41\n",
            "5sTxNJk\n",
            "ZLjOtZPF\n",
            "D8ayTQ\n",
            "1Dz55lK\n",
            "ShfyT6qG\n",
            "pmRC8oz6\n",
            "GuOz8d\n",
            "mjvuxn\n",
            "kkl9Ls\n",
            "ectgs1sW\n",
            "OnxrH4P\n",
            "pNT9Fi\n",
            "VFw68k\n",
            "XO7kU2y\n",
            "KfdBff\n",
            "FZxghc8f\n",
            "TyvemCb\n",
            "sgob4oKl\n",
            "0r2Lad\n",
            "EhsYex\n",
            "EzSJ4G10\n",
            "rpvwhQ\n",
            "ekyNOHlz\n",
            "7MbB5Py\n",
            "RhYDdZ8\n",
            "Zpo8Ikvt\n",
            "9Oftdt\n",
            "K1sJ5f\n",
            "tmIVElP8\n",
            "LoUgb3P\n",
            "RC8b0n\n",
            "zkG0i0\n",
            "3FeNrBHt\n",
            "CHfjhI\n",
            "mOFVzD\n",
            "XuKtYmK2\n",
            "qdTAZCeZ\n",
            "9925j1\n",
            "R9pLSo\n",
            "uDUvgJ\n",
            "6WDefp\n",
            "BDdhCQRd\n",
            "7uSXnPP\n",
            "XP3f7h\n",
            "YX5YExpD\n",
            "VTKThpU\n",
            "L4IRPy3\n",
            "yjJnpLb\n",
            "MhgD33q\n",
            "cdV3nv\n",
            "OJIRrcOg\n",
            "03pojvnD\n",
            "OGFTr05\n",
            "h3MhQCr\n",
            "CECFRgUH\n",
            "NRsNp5G\n",
            "YY9qVW\n",
            "DSvlEPwd\n",
            "WaiLOwTb\n",
            "6ciY2ys\n",
            "jDRO34\n",
            "uB3zGu\n",
            "NOGCuBCm\n",
            "3pjeXdN\n",
            "d8Bz2f\n",
            "s2vvJi\n",
            "LQY2Vt\n",
            "Pory8Lui\n",
            "vkMj0x\n",
            "CIihWQk\n",
            "dBDIthD\n",
            "vsswfPn\n",
            "zCsZ9AWJ\n",
            "Pc5dOZEg\n",
            "IHUGLlh\n",
            "8nof8Wh\n",
            "Sa5TYnsr\n",
            "Y0win1\n",
            "8ufZczch\n",
            "anm1Wb\n",
            "510cIbbC\n",
            "ka7BP0z\n",
            "962GaXFm\n",
            "nG7Wk4l9\n",
            "NgpmkX\n",
            "BOt3poV\n",
            "M2xcjO3A\n",
            "hWbh0gx\n",
            "uPToMC\n",
            "7PovQZ\n",
            "E2ZwKv\n",
            "qAN0L3\n",
            "OrxTZK\n",
            "BL9V4n\n",
            "9IHAhi\n",
            "Primes between 600 and 800: [601, 607, 613, 617, 619, 631, 641, 643, 647, 653, 659, 661, 673, 677, 683, 691, 701, 709, 719, 727, 733, 739, 743, 751, 757, 761, 769, 773, 787, 797]\n",
            "Divisible by 7 and 9: [126, 189, 252, 315, 378, 441, 504, 567, 630, 693, 756, 819, 882, 945]\n"
          ]
        }
      ]
    },
    {
      "cell_type": "code",
      "source": [
        "# Two random lists of 10 elements between 10 and 30\n",
        "list1 = random.sample(range(10, 31), 10)\n",
        "list2 = random.sample(range(10, 31), 10)\n",
        "\n",
        "print(\"List1:\", list1)\n",
        "print(\"List2:\", list2)\n",
        "\n",
        "# (i) Common numbers\n",
        "common = list(set(list1) & set(list2))\n",
        "print(\"Common numbers:\", common)\n",
        "\n",
        "# (ii) Unique numbers\n",
        "unique = list((set(list1) ^ set(list2)))\n",
        "print(\"Unique numbers:\", unique)\n",
        "\n",
        "# (iii) Minimum in both lists\n",
        "print(\"Min of List1:\", min(list1))\n",
        "print(\"Min of List2:\", min(list2))\n",
        "\n",
        "# (iv) Maximum in both lists\n",
        "print(\"Max of List1:\", max(list1))\n",
        "print(\"Max of List2:\", max(list2))\n",
        "\n",
        "# (v) Sum of both lists\n",
        "print(\"Sum of List1:\", sum(list1))\n",
        "print(\"Sum of List2:\", sum(list2))\n"
      ],
      "metadata": {
        "colab": {
          "base_uri": "https://localhost:8080/"
        },
        "id": "_Pr3O_S5i1PB",
        "outputId": "2f40cf77-6840-4472-de29-0cbc96bc4ed4"
      },
      "execution_count": null,
      "outputs": [
        {
          "output_type": "stream",
          "name": "stdout",
          "text": [
            "List1: [17, 16, 14, 19, 29, 22, 28, 10, 20, 23]\n",
            "List2: [11, 18, 24, 20, 23, 28, 29, 16, 13, 30]\n",
            "Common numbers: [16, 20, 23, 28, 29]\n",
            "Unique numbers: [10, 11, 13, 14, 17, 18, 19, 22, 24, 30]\n",
            "Min of List1: 10\n",
            "Min of List2: 11\n",
            "Max of List1: 29\n",
            "Max of List2: 30\n",
            "Sum of List1: 198\n",
            "Sum of List2: 212\n"
          ]
        }
      ]
    },
    {
      "cell_type": "code",
      "source": [
        "import random\n",
        "\n",
        "# Generate 100 random numbers\n",
        "numbers = [random.randint(100, 900) for _ in range(100)]\n",
        "\n",
        "# (i) Odd numbers\n",
        "odds = [n for n in numbers if n % 2 != 0]\n",
        "print(\"Odd Numbers:\", odds)\n",
        "\n",
        "# (ii) Even numbers\n",
        "evens = [n for n in numbers if n % 2 == 0]\n",
        "print(\"Even Numbers:\", evens)\n",
        "\n",
        "# (iii) Prime numbers\n",
        "def is_prime(n):\n",
        "    if n < 2: return False\n",
        "    for i in range(2, int(n**0.5)+1):\n",
        "        if n % i == 0: return False\n",
        "    return True\n",
        "\n",
        "primes = [n for n in numbers if is_prime(n)]\n",
        "print(\"Prime Numbers:\", primes)\n",
        "\n"
      ],
      "metadata": {
        "colab": {
          "base_uri": "https://localhost:8080/"
        },
        "id": "gA2nu52Ai44U",
        "outputId": "62d49429-98ed-4dd0-ab4d-113c78a43b25"
      },
      "execution_count": null,
      "outputs": [
        {
          "output_type": "stream",
          "name": "stdout",
          "text": [
            "Odd Numbers: [135, 133, 871, 713, 467, 365, 361, 891, 851, 117, 167, 243, 475, 393, 363, 561, 123, 677, 241, 823, 517, 767, 745, 597, 691, 463, 471, 839, 565, 837, 765, 115, 355, 239, 541, 747, 757, 279, 805, 687, 605, 245, 579, 401, 489, 105, 181, 271, 371, 461, 395]\n",
            "Even Numbers: [536, 592, 560, 408, 402, 888, 578, 264, 436, 150, 418, 550, 854, 398, 676, 350, 438, 510, 588, 588, 316, 884, 138, 164, 774, 624, 200, 818, 542, 444, 432, 518, 386, 314, 476, 774, 724, 148, 478, 738, 208, 146, 288, 610, 822, 240, 856, 370, 478]\n",
            "Prime Numbers: [467, 167, 677, 241, 823, 691, 463, 839, 239, 541, 757, 401, 181, 271, 461]\n"
          ]
        }
      ]
    },
    {
      "cell_type": "code",
      "source": [
        "import string\n",
        "\n",
        "with open(\"random_strings.txt\", \"w\") as f:\n",
        "    for _ in range(100):\n",
        "        length = random.randint(10, 15)\n",
        "        rand_str = ''.join(random.choices(string.ascii_letters + string.digits, k=length))\n",
        "        f.write(rand_str + '\\n')\n"
      ],
      "metadata": {
        "id": "ZRw3RrGwi7-o"
      },
      "execution_count": 12,
      "outputs": []
    },
    {
      "cell_type": "code",
      "source": [
        "import random\n",
        "import time\n",
        "import matplotlib.pyplot as plt\n",
        "\n",
        "sizes = [5000, 10000, 15000, 20000, 25000]\n",
        "times = []\n",
        "\n",
        "for size in sizes:\n",
        "    lst = [random.randint(1, 1000000) for _ in range(size)]\n",
        "    start = time.time()\n",
        "    lst.sort()\n",
        "    end = time.time()\n",
        "    elapsed = end - start\n",
        "    times.append(elapsed)\n",
        "    print(f\"Sorted {size} elements in {elapsed:.4f} seconds\")\n",
        "\n",
        "# Plotting the graph\n",
        "plt.plot(sizes, times, marker='o')\n",
        "plt.title(\"Time Taken to Sort Lists of Different Sizes\")\n",
        "plt.xlabel(\"Number of Elements\")\n",
        "plt.ylabel(\"Time Taken (seconds)\")\n",
        "plt.grid(True)\n",
        "plt.show()\n"
      ],
      "metadata": {
        "colab": {
          "base_uri": "https://localhost:8080/",
          "height": 557
        },
        "id": "zg0eVdJ1jTJY",
        "outputId": "a41fa452-f562-49f1-aa07-39e79db21b04"
      },
      "execution_count": 13,
      "outputs": [
        {
          "output_type": "stream",
          "name": "stdout",
          "text": [
            "Sorted 5000 elements in 0.0007 seconds\n",
            "Sorted 10000 elements in 0.0020 seconds\n",
            "Sorted 15000 elements in 0.0026 seconds\n",
            "Sorted 20000 elements in 0.0038 seconds\n",
            "Sorted 25000 elements in 0.0051 seconds\n"
          ]
        },
        {
          "output_type": "display_data",
          "data": {
            "text/plain": [
              "<Figure size 640x480 with 1 Axes>"
            ],
            "image/png": "[encoded data removed]"
          },
          "metadata": {}
        }
      ]
    },
    {
      "cell_type": "code",
      "source": [
        "students = {\n",
        "    \"Alice\": [88, 90, 92, 85, 87],\n",
        "    \"Bob\": [78, 76, 80, 75, 74],\n",
        "    \"Charlie\": [95, 94, 96, 93, 97],\n",
        "    \"David\": [60, 65, 58, 63, 62],\n",
        "    \"Eve\": [85, 89, 84, 88, 90]\n",
        "}\n",
        "\n",
        "# Calculate average marks\n",
        "averages = {name: sum(marks)/len(marks) for name, marks in students.items()}\n",
        "\n",
        "# Find max and min\n",
        "max_student = max(averages, key=averages.get)\n",
        "min_student = min(averages, key=averages.get)\n",
        "\n",
        "print(f\"Highest Average: {max_student} -> {averages[max_student]:.2f}\")\n",
        "print(f\"Lowest Average: {min_student} -> {averages[min_student]:.2f}\")\n"
      ],
      "metadata": {
        "colab": {
          "base_uri": "https://localhost:8080/"
        },
        "id": "noo3eW4PjbGu",
        "outputId": "a41f90a9-4cff-43f2-d849-01169c4ad381"
      },
      "execution_count": 14,
      "outputs": [
        {
          "output_type": "stream",
          "name": "stdout",
          "text": [
            "Highest Average: Charlie -> 95.00\n",
            "Lowest Average: David -> 61.60\n"
          ]
        }
      ]
    }
  ]
}