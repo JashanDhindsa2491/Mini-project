{
  "nbformat": 4,
  "nbformat_minor": 0,
  "metadata": {
    "colab": {
      "provenance": [],
      "authorship_tag": "ABX9TyN5gltj4YBcohrMeW7zHZ/0",
      "include_colab_link": true
    },
    "kernelspec": {
      "name": "python3",
      "display_name": "Python 3"
    },
    "language_info": {
      "name": "python"
    }
  },
  "cells": [
    {
      "cell_type": "markdown",
      "metadata": {
        "id": "view-in-github",
        "colab_type": "text"
      },
      "source": [
        "<a href=\"https://colab.research.google.com/github/JashanDhindsa2491/Mini-project/blob/main/assignment_Q1_6.ipynb\" target=\"_parent\"><img src=\"https://colab.research.google.com/assets/colab-badge.svg\" alt=\"Open In Colab\"/></a>"
      ]
    },
    {
      "cell_type": "code",
      "execution_count": 2,
      "metadata": {
        "colab": {
          "base_uri": "https://localhost:8080/"
        },
        "id": "02BIJuZWf9F1",
        "outputId": "64be1f64-9a10-4f87-a481-7b686f85289d"
      },
      "outputs": [
        {
          "output_type": "stream",
          "name": "stdout",
          "text": [
            "File 'random_strings_1000.txt' created with 1000 random strings.\n"
          ]
        }
      ],
      "source": [
        "import random\n",
        "import string\n",
        "\n",
        "# Function to generate a random string of given length\n",
        "def generate_random_string(length=12):\n",
        "    characters = string.ascii_letters + string.digits\n",
        "    return ''.join(random.choices(characters, k=length))\n",
        "\n",
        "# Create a file and write 1000 random strings into it\n",
        "with open(\"random_strings_1000.txt\", \"w\") as file:\n",
        "    for _ in range(1000):\n",
        "        random_string = generate_random_string()\n",
        "        file.write(random_string + \"\\n\")\n",
        "\n",
        "print(\"File 'random_strings_1000.txt' created with 1000 random strings.\")\n"
      ]
    },
    {
      "cell_type": "code",
      "source": [
        "import os\n",
        "import random\n",
        "import string\n",
        "\n",
        "def generate_random_string(length=100):\n",
        "    return ''.join(random.choices(string.ascii_letters + string.digits, k=length))\n",
        "\n",
        "filename = \"file_5MB.txt\"\n",
        "target_size = 5 * 1024 * 1024  # 5 MB\n",
        "\n",
        "with open(filename, \"w\") as f:\n",
        "    while f.tell() < target_size:\n",
        "        f.write(generate_random_string() + \"\\n\")\n",
        "\n",
        "print(f\"{filename} created with size ~5MB.\")\n"
      ],
      "metadata": {
        "colab": {
          "base_uri": "https://localhost:8080/"
        },
        "id": "WM05x1RghvJb",
        "outputId": "269fe5e0-08a5-4abc-a844-5338883c83e5"
      },
      "execution_count": 5,
      "outputs": [
        {
          "output_type": "stream",
          "name": "stdout",
          "text": [
            "file_5MB.txt created with size ~5MB.\n"
          ]
        }
      ]
    },
    {
      "cell_type": "code",
      "source": [
        "for i in range(10):\n",
        "    filename = f\"file_{i+1}_5MB.txt\"\n",
        "    with open(filename, \"w\") as f:\n",
        "        while f.tell() < 5 * 1024 * 1024:\n",
        "            f.write(generate_random_string() + \"\\n\")\n",
        "    print(f\"{filename} created.\")\n"
      ],
      "metadata": {
        "colab": {
          "base_uri": "https://localhost:8080/"
        },
        "id": "WA425yzkX3Wc",
        "outputId": "f0b82394-03ec-44fe-86f0-be395a2d8492"
      },
      "execution_count": 4,
      "outputs": [
        {
          "output_type": "stream",
          "name": "stdout",
          "text": [
            "file_1_5MB.txt created.\n",
            "file_2_5MB.txt created.\n",
            "file_3_5MB.txt created.\n",
            "file_4_5MB.txt created.\n",
            "file_5_5MB.txt created.\n",
            "file_6_5MB.txt created.\n",
            "file_7_5MB.txt created.\n",
            "file_8_5MB.txt created.\n",
            "file_9_5MB.txt created.\n",
            "file_10_5MB.txt created.\n"
          ]
        }
      ]
    },
    {
      "cell_type": "code",
      "source": [
        "import random\n",
        "import string\n",
        "\n",
        "def generate_chunk(chunk_size, line_length=100):\n",
        "    lines = [\n",
        "        ''.join(random.choices(string.ascii_letters + string.digits, k=line_length)) + \"\\n\"\n",
        "        for _ in range(chunk_size)\n",
        "    ]\n",
        "    return ''.join(lines)\n",
        "\n",
        "file_sizes_gb = [1, 2, 3, 4, 5]\n",
        "\n",
        "for size in file_sizes_gb:\n",
        "    filename = f\"file_{size}GB.txt\"\n",
        "    target_size = size * 1024 * 1024 * 1024  # GB to bytes\n",
        "    chunk = generate_chunk(1000)  # Each chunk is ~100KB\n",
        "    chunk_size = len(chunk.encode())\n",
        "\n",
        "    with open(filename, \"w\") as f:\n",
        "        written = 0\n",
        "        while written < target_size:\n",
        "            f.write(chunk)\n",
        "            written += chunk_size\n",
        "\n",
        "    print(f\"{filename} created with size ~{size}GB.\")\n"
      ],
      "metadata": {
        "colab": {
          "base_uri": "https://localhost:8080/"
        },
        "id": "0-aL5aeKYYVr",
        "outputId": "e07d3198-1d80-4162-f342-6879bd6dc8ed"
      },
      "execution_count": 10,
      "outputs": [
        {
          "output_type": "stream",
          "name": "stdout",
          "text": [
            "file_1GB.txt created with size ~1GB.\n",
            "file_2GB.txt created with size ~2GB.\n",
            "file_3GB.txt created with size ~3GB.\n",
            "file_4GB.txt created with size ~4GB.\n",
            "file_5GB.txt created with size ~5GB.\n"
          ]
        }
      ]
    },
    {
      "cell_type": "code",
      "source": [
        "for size in file_sizes_gb:\n",
        "    filename = f\"file_{size}GB.txt\"\n",
        "    new_filename = f\"file_{size}GB_upper.txt\"\n",
        "\n",
        "    with open(filename, \"r\") as src, open(new_filename, \"w\") as dst:\n",
        "        for line in src:\n",
        "            dst.write(line.upper())\n",
        "\n",
        "    print(f\"{filename} converted to uppercase and saved as {new_filename}\")\n"
      ],
      "metadata": {
        "colab": {
          "base_uri": "https://localhost:8080/"
        },
        "id": "kmp-yChpawME",
        "outputId": "4c863aed-7d1c-423a-eee3-425fcfb491bd"
      },
      "execution_count": 11,
      "outputs": [
        {
          "output_type": "stream",
          "name": "stdout",
          "text": [
            "file_1GB.txt converted to uppercase and saved as file_1GB_upper.txt\n",
            "file_2GB.txt converted to uppercase and saved as file_2GB_upper.txt\n",
            "file_3GB.txt converted to uppercase and saved as file_3GB_upper.txt\n",
            "file_4GB.txt converted to uppercase and saved as file_4GB_upper.txt\n",
            "file_5GB.txt converted to uppercase and saved as file_5GB_upper.txt\n"
          ]
        }
      ]
    },
    {
      "cell_type": "code",
      "source": [
        "import threading\n",
        "\n",
        "def convert_to_uppercase(input_file, output_file):\n",
        "    with open(input_file, \"r\") as src, open(output_file, \"w\") as dst:\n",
        "        for line in src:\n",
        "            dst.write(line.upper())\n",
        "    print(f\"{input_file} -> {output_file} (done)\")\n",
        "\n",
        "threads = []\n",
        "for size in file_sizes_gb:\n",
        "    filename = f\"file_{size}GB.txt\"\n",
        "    new_filename = f\"file_{size}GB_upper.txt\"\n",
        "    t = threading.Thread(target=convert_to_uppercase, args=(filename, new_filename))\n",
        "    t.start()\n",
        "    threads.append(t)\n",
        "\n",
        "# Wait for all threads to complete\n",
        "for t in threads:\n",
        "    t.join()\n",
        "\n",
        "print(\"All files converted to uppercase using multithreading.\")\n"
      ],
      "metadata": {
        "colab": {
          "base_uri": "https://localhost:8080/"
        },
        "id": "H6zqYbIpa2Ie",
        "outputId": "d3f9f534-fd70-4357-e972-0cbeed35eb9e"
      },
      "execution_count": 12,
      "outputs": [
        {
          "output_type": "stream",
          "name": "stdout",
          "text": [
            "file_1GB.txt -> file_1GB_upper.txt (done)\n",
            "file_2GB.txt -> file_2GB_upper.txt (done)\n",
            "file_3GB.txt -> file_3GB_upper.txt (done)\n",
            "file_5GB.txt -> file_5GB_upper.txt (done)\n",
            "file_4GB.txt -> file_4GB_upper.txt (done)\n",
            "All files converted to uppercase using multithreading.\n"
          ]
        }
      ]
    }
  ]
}