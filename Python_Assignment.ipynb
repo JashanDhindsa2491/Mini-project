{
  "nbformat": 4,
  "nbformat_minor": 0,
  "metadata": {
    "colab": {
      "provenance": []
    },
    "kernelspec": {
      "name": "python3",
      "display_name": "Python 3"
    },
    "language_info": {
      "name": "python"
    }
  },
  "cells": [
    {
      "cell_type": "markdown",
      "source": [
        "Q1 L is a list defined as L=[11,12,13,14].\n",
        "(i) WAP to add 50 and 60 to L"
      ],
      "metadata": {
        "id": "C_uSeg07vBTJ"
      }
    },
    {
      "cell_type": "code",
      "source": [
        "L = [11, 12, 13, 14]\n",
        "L.append(50)\n",
        "L.append(60)\n",
        "print(L)"
      ],
      "metadata": {
        "colab": {
          "base_uri": "https://localhost:8080/"
        },
        "id": "MK_5ol8zxnkB",
        "outputId": "ee89a843-386d-442f-fb61-7d0fce60ce3a"
      },
      "execution_count": 27,
      "outputs": [
        {
          "output_type": "stream",
          "name": "stdout",
          "text": [
            "[11, 12, 13, 14, 50, 60]\n"
          ]
        }
      ]
    },
    {
      "cell_type": "markdown",
      "source": [
        "(ii) WAP to remove 11 and 13"
      ],
      "metadata": {
        "id": "fcIk_HeCy4NU"
      }
    },
    {
      "cell_type": "code",
      "source": [
        "L.remove(11)\n",
        "L.remove(13)\n",
        "print(L)"
      ],
      "metadata": {
        "colab": {
          "base_uri": "https://localhost:8080/"
        },
        "id": "DMrpqPiFy8Ku",
        "outputId": "15dccde0-eb98-4fd9-e28b-f72193bb330f"
      },
      "execution_count": 28,
      "outputs": [
        {
          "output_type": "stream",
          "name": "stdout",
          "text": [
            "[12, 14, 50, 60]\n"
          ]
        }
      ]
    },
    {
      "cell_type": "markdown",
      "source": [
        "(iii) WAP to sort L in ascending order"
      ],
      "metadata": {
        "id": "KjF7JqPJzDJk"
      }
    },
    {
      "cell_type": "code",
      "source": [
        "L.sort()\n",
        "print(L)"
      ],
      "metadata": {
        "colab": {
          "base_uri": "https://localhost:8080/"
        },
        "id": "Gq-4pmVRzIWK",
        "outputId": "65d30f4c-b0d1-45be-fe94-9c7e536450d5"
      },
      "execution_count": 29,
      "outputs": [
        {
          "output_type": "stream",
          "name": "stdout",
          "text": [
            "[12, 14, 50, 60]\n"
          ]
        }
      ]
    },
    {
      "cell_type": "markdown",
      "source": [
        "(iv) WAP to sort L in descending order"
      ],
      "metadata": {
        "id": "7gv3m0QgzG0j"
      }
    },
    {
      "cell_type": "code",
      "source": [
        "L.sort(reverse=True)\n",
        "print(L)"
      ],
      "metadata": {
        "colab": {
          "base_uri": "https://localhost:8080/"
        },
        "id": "cn74yv_azP97",
        "outputId": "c8f8b5ac-17e7-434a-b85e-31f776469577"
      },
      "execution_count": 30,
      "outputs": [
        {
          "output_type": "stream",
          "name": "stdout",
          "text": [
            "[60, 50, 14, 12]\n"
          ]
        }
      ]
    },
    {
      "cell_type": "markdown",
      "source": [
        "(v) WAP to search for 13"
      ],
      "metadata": {
        "id": "psEpMSc1zXwO"
      }
    },
    {
      "cell_type": "code",
      "source": [
        "L=[11,12,13,14]\n",
        "if 13 in L:\n",
        "    print(\"13 is present\")\n",
        "else:\n",
        "    print(\"13 is not present\")"
      ],
      "metadata": {
        "colab": {
          "base_uri": "https://localhost:8080/"
        },
        "id": "x-BE2vfCza3H",
        "outputId": "374eca71-23f9-479b-f903-e93e869a9af8"
      },
      "execution_count": 31,
      "outputs": [
        {
          "output_type": "stream",
          "name": "stdout",
          "text": [
            "13 is present\n"
          ]
        }
      ]
    },
    {
      "cell_type": "markdown",
      "source": [
        "(vi) WAP to count the number of elements present in L."
      ],
      "metadata": {
        "id": "_P5ybe5wzpZh"
      }
    },
    {
      "cell_type": "code",
      "source": [
        "L = [11, 12, 13, 14]\n",
        "count = len(L)\n",
        "print(\"Number of elements:\", count)"
      ],
      "metadata": {
        "colab": {
          "base_uri": "https://localhost:8080/"
        },
        "id": "r3qyGtdFz3XN",
        "outputId": "59858bc2-146f-4979-d18c-310fc80d3cba"
      },
      "execution_count": 32,
      "outputs": [
        {
          "output_type": "stream",
          "name": "stdout",
          "text": [
            "Number of elements: 4\n"
          ]
        }
      ]
    },
    {
      "cell_type": "markdown",
      "source": [
        "(vii) WAP to sum all the elements in L."
      ],
      "metadata": {
        "id": "jhZTc8R80DDf"
      }
    },
    {
      "cell_type": "code",
      "source": [
        "L = [11, 12, 13, 14]\n",
        "total_sum = sum(L)\n",
        "print(\"Sum of all elements:\", total_sum)"
      ],
      "metadata": {
        "colab": {
          "base_uri": "https://localhost:8080/",
          "height": 173
        },
        "id": "uJmhueA00HYF",
        "outputId": "5b70e040-40e0-4987-9552-e8d18d207029"
      },
      "execution_count": 34,
      "outputs": [
        {
          "output_type": "error",
          "ename": "TypeError",
          "evalue": "'int' object is not callable",
          "traceback": [
            "\u001b[0;31m---------------------------------------------------------------------------\u001b[0m",
            "\u001b[0;31mTypeError\u001b[0m                                 Traceback (most recent call last)",
            "\u001b[0;32m<ipython-input-34-383004230>\u001b[0m in \u001b[0;36m<cell line: 0>\u001b[0;34m()\u001b[0m\n\u001b[1;32m      1\u001b[0m \u001b[0mL\u001b[0m \u001b[0;34m=\u001b[0m \u001b[0;34m[\u001b[0m\u001b[0;36m11\u001b[0m\u001b[0;34m,\u001b[0m \u001b[0;36m12\u001b[0m\u001b[0;34m,\u001b[0m \u001b[0;36m13\u001b[0m\u001b[0;34m,\u001b[0m \u001b[0;36m14\u001b[0m\u001b[0;34m]\u001b[0m\u001b[0;34m\u001b[0m\u001b[0;34m\u001b[0m\u001b[0m\n\u001b[0;32m----> 2\u001b[0;31m \u001b[0mtotal_sum\u001b[0m \u001b[0;34m=\u001b[0m \u001b[0msum\u001b[0m\u001b[0;34m(\u001b[0m\u001b[0mL\u001b[0m\u001b[0;34m)\u001b[0m\u001b[0;34m\u001b[0m\u001b[0;34m\u001b[0m\u001b[0m\n\u001b[0m\u001b[1;32m      3\u001b[0m \u001b[0mprint\u001b[0m\u001b[0;34m(\u001b[0m\u001b[0;34m\"Sum of all elements:\"\u001b[0m\u001b[0;34m,\u001b[0m \u001b[0mtotal_sum\u001b[0m\u001b[0;34m)\u001b[0m\u001b[0;34m\u001b[0m\u001b[0;34m\u001b[0m\u001b[0m\n",
            "\u001b[0;31mTypeError\u001b[0m: 'int' object is not callable"
          ]
        }
      ]
    },
    {
      "cell_type": "markdown",
      "source": [
        "(viii) WAP to sum all ODD numbers in L"
      ],
      "metadata": {
        "id": "7LlB4wrT0L1F"
      }
    },
    {
      "cell_type": "code",
      "source": [
        "L = [11, 12, 13, 14]\n",
        "sum = 0\n",
        "for num in L:\n",
        "    if num % 2 != 0:\n",
        "        sum += num\n",
        "print(\"Sum of all odd numbers:\", sum)"
      ],
      "metadata": {
        "colab": {
          "base_uri": "https://localhost:8080/"
        },
        "id": "OumIoEog0MPQ",
        "outputId": "dc5b3cc9-aa85-41ed-f914-77d6d2e1e1c2"
      },
      "execution_count": 35,
      "outputs": [
        {
          "output_type": "stream",
          "name": "stdout",
          "text": [
            "Sum of all odd numbers: 24\n"
          ]
        }
      ]
    },
    {
      "cell_type": "markdown",
      "source": [
        "(ix) WAP to sum all EVEN numbers in L"
      ],
      "metadata": {
        "id": "sBJU-fwN0Yu_"
      }
    },
    {
      "cell_type": "code",
      "source": [
        "L = [11, 12, 13, 14]\n",
        "sum = 0\n",
        "for num in L:\n",
        "    if num % 2 == 0:\n",
        "        sum += num\n",
        "print(\"Sum of all even numbers :\", sum)"
      ],
      "metadata": {
        "colab": {
          "base_uri": "https://localhost:8080/"
        },
        "id": "pplVEx3x0dxj",
        "outputId": "983fbdf6-8a5b-4e2b-9f65-606f7f186c1f"
      },
      "execution_count": 36,
      "outputs": [
        {
          "output_type": "stream",
          "name": "stdout",
          "text": [
            "Sum of all even numbers : 26\n"
          ]
        }
      ]
    },
    {
      "cell_type": "markdown",
      "source": [
        "(x) WAP to sum all prime number"
      ],
      "metadata": {
        "id": "5LxcjZtk0vBA"
      }
    },
    {
      "cell_type": "code",
      "source": [
        "def is_prime(n):\n",
        "    if n <= 1:\n",
        "        return False\n",
        "    for i in range(2, int(n**0.5) + 1):\n",
        "        if n % i == 0:\n",
        "            return False\n",
        "    return True\n",
        "\n",
        "L = [11, 12, 13, 14]\n",
        "sum = 0\n",
        "for num in L:\n",
        "    if is_prime(num):\n",
        "        sum += num\n",
        "print(\"Sum of all prime numbers:\", sum)"
      ],
      "metadata": {
        "colab": {
          "base_uri": "https://localhost:8080/"
        },
        "id": "P-oegzqE0yMX",
        "outputId": "d6f5d893-f4b5-47ad-a436-9518a8fdae27"
      },
      "execution_count": 37,
      "outputs": [
        {
          "output_type": "stream",
          "name": "stdout",
          "text": [
            "Sum of all prime numbers: 24\n"
          ]
        }
      ]
    },
    {
      "cell_type": "markdown",
      "source": [
        "(xi) WAP to clear all the elements"
      ],
      "metadata": {
        "id": "lcgO0drE1Gij"
      }
    },
    {
      "cell_type": "code",
      "source": [
        "L = [11, 12, 13, 14]\n",
        "L.clear()\n",
        "print(L)"
      ],
      "metadata": {
        "colab": {
          "base_uri": "https://localhost:8080/"
        },
        "id": "6fJNh-VI1Jnf",
        "outputId": "619a2c84-6287-4531-90ea-844abc2cbd07"
      },
      "execution_count": 38,
      "outputs": [
        {
          "output_type": "stream",
          "name": "stdout",
          "text": [
            "[]\n"
          ]
        }
      ]
    },
    {
      "cell_type": "markdown",
      "source": [],
      "metadata": {
        "id": "h-UA0jFy1Nt-"
      }
    },
    {
      "cell_type": "code",
      "source": [
        "L = [11, 12, 13, 14]\n",
        "del L\n",
        "print(\"List deleted.\")"
      ],
      "metadata": {
        "colab": {
          "base_uri": "https://localhost:8080/"
        },
        "id": "0uFxeWk61OBY",
        "outputId": "79a032f5-8659-427a-ccd8-dfa84db855cc"
      },
      "execution_count": 39,
      "outputs": [
        {
          "output_type": "stream",
          "name": "stdout",
          "text": [
            "List deleted.\n"
          ]
        }
      ]
    },
    {
      "cell_type": "markdown",
      "source": [
        "Q2. D is a dictionary defined as D= {1:5.6, 2:7.8, 3:6.6, 4:8.7, 5:7.7}.\n",
        "(i) WAP to add new entry in D;key=8 and value is 8.8"
      ],
      "metadata": {
        "id": "XS2lsl491zE4"
      }
    },
    {
      "cell_type": "code",
      "source": [
        "D = {1: 5.6, 2: 7.8, 3: 6.6, 4: 8.7, 5: 7.7}\n",
        "D[8] = 8.8\n",
        "print(D)"
      ],
      "metadata": {
        "colab": {
          "base_uri": "https://localhost:8080/"
        },
        "id": "UXK97mC217wJ",
        "outputId": "7f965fd1-4c36-4450-ed6c-3aacc1924a9e"
      },
      "execution_count": 40,
      "outputs": [
        {
          "output_type": "stream",
          "name": "stdout",
          "text": [
            "{1: 5.6, 2: 7.8, 3: 6.6, 4: 8.7, 5: 7.7, 8: 8.8}\n"
          ]
        }
      ]
    },
    {
      "cell_type": "markdown",
      "source": [
        "(ii) WAP to remove key=2"
      ],
      "metadata": {
        "id": "TcBqj_Uq1--I"
      }
    },
    {
      "cell_type": "code",
      "source": [
        "D = {1: 5.6, 2: 7.8, 3: 6.6, 4: 8.7, 5: 7.7}\n",
        "D.pop(2)\n",
        "print(D)"
      ],
      "metadata": {
        "colab": {
          "base_uri": "https://localhost:8080/"
        },
        "id": "YLoYyr1G2CZr",
        "outputId": "23e38eb0-e1d1-49dd-b082-fce4663b2e25"
      },
      "execution_count": 41,
      "outputs": [
        {
          "output_type": "stream",
          "name": "stdout",
          "text": [
            "{1: 5.6, 3: 6.6, 4: 8.7, 5: 7.7}\n"
          ]
        }
      ]
    },
    {
      "cell_type": "markdown",
      "source": [
        "(iii) WAP to check weather 6 key is present in D."
      ],
      "metadata": {
        "id": "kIweWV7F2i9s"
      }
    },
    {
      "cell_type": "code",
      "source": [
        "D = {1: 5.6, 2: 7.8, 3: 6.6, 4: 8.7, 5: 7.7}\n",
        "if 6 in D:\n",
        "    print(\"Key 6 is present\")\n",
        "else:\n",
        "    print(\"Key 6 is not present\")"
      ],
      "metadata": {
        "colab": {
          "base_uri": "https://localhost:8080/"
        },
        "id": "7Sc9gzvR2qNu",
        "outputId": "09e993d4-d18c-4cc7-bca0-bd2612ea8683"
      },
      "execution_count": 42,
      "outputs": [
        {
          "output_type": "stream",
          "name": "stdout",
          "text": [
            "Key 6 is not present\n"
          ]
        }
      ]
    },
    {
      "cell_type": "markdown",
      "source": [
        "(iv) WAP to count the number of elements present in D."
      ],
      "metadata": {
        "id": "hH1DB2Hr2pcf"
      }
    },
    {
      "cell_type": "code",
      "source": [
        "D = {1: 5.6, 2: 7.8, 3: 6.6, 4: 8.7, 5: 7.7}\n",
        "count = len(D)\n",
        "print(\"Number of elements in D:\", count)"
      ],
      "metadata": {
        "colab": {
          "base_uri": "https://localhost:8080/"
        },
        "id": "bshZVxad4wWG",
        "outputId": "8d56ea89-01d7-4581-9579-357bc515a146"
      },
      "execution_count": 43,
      "outputs": [
        {
          "output_type": "stream",
          "name": "stdout",
          "text": [
            "Number of elements in D: 5\n"
          ]
        }
      ]
    },
    {
      "cell_type": "markdown",
      "source": [
        "(vi) WAP to update the value of 3 to 7.1."
      ],
      "metadata": {
        "id": "y_Hfcv3f44Qk"
      }
    },
    {
      "cell_type": "code",
      "source": [
        "D = {1: 5.6, 2: 7.8, 3: 6.6, 4: 8.7, 5: 7.7}\n",
        "D[3] = 7.1\n",
        "print(D)"
      ],
      "metadata": {
        "colab": {
          "base_uri": "https://localhost:8080/"
        },
        "id": "7dl9sEdm42DS",
        "outputId": "4934c0f2-291d-47c2-e4c5-a6cabca7e098"
      },
      "execution_count": 45,
      "outputs": [
        {
          "output_type": "stream",
          "name": "stdout",
          "text": [
            "{1: 5.6, 2: 7.8, 3: 7.1, 4: 8.7, 5: 7.7}\n"
          ]
        }
      ]
    },
    {
      "cell_type": "markdown",
      "source": [
        "(vii) WAP to clear the dictionary."
      ],
      "metadata": {
        "id": "kBLTl73f48LP"
      }
    },
    {
      "cell_type": "code",
      "source": [
        "D = {1: 5.6, 2: 7.8, 3: 6.6, 4: 8.7, 5: 7.7}\n",
        "D.clear()\n",
        "print(D)"
      ],
      "metadata": {
        "colab": {
          "base_uri": "https://localhost:8080/"
        },
        "id": "5L5OKB-348xA",
        "outputId": "a52c43a1-2fd9-45f3-9ce9-b2935272f0de"
      },
      "execution_count": 46,
      "outputs": [
        {
          "output_type": "stream",
          "name": "stdout",
          "text": [
            "{}\n"
          ]
        }
      ]
    },
    {
      "cell_type": "markdown",
      "source": [
        "Q3 S1 is a set defined as S1= [10, 20, 30, 40, 50, 60].\n",
        "S2 is a set defined as S2= [40, 50, 60, 70, 80, 90].\n"
      ],
      "metadata": {
        "id": "vrSrOBDW5CGX"
      }
    },
    {
      "cell_type": "code",
      "source": [
        "#(i)\n",
        "S1 = {10, 20, 30, 40, 50, 60}\n",
        "S1.add(55)\n",
        "S1.add(66)\n",
        "print(S1)"
      ],
      "metadata": {
        "colab": {
          "base_uri": "https://localhost:8080/"
        },
        "id": "8eDX0el15HXT",
        "outputId": "e80d8f4e-3ad9-4092-9978-80eb416c4416"
      },
      "execution_count": 47,
      "outputs": [
        {
          "output_type": "stream",
          "name": "stdout",
          "text": [
            "{50, 66, 20, 55, 40, 10, 60, 30}\n"
          ]
        }
      ]
    },
    {
      "cell_type": "code",
      "source": [
        "#(ii)\n",
        "S1 = {10, 20, 30, 40, 50, 60}\n",
        "S1.remove(10)\n",
        "S1.remove(30)\n",
        "print(S1)"
      ],
      "metadata": {
        "colab": {
          "base_uri": "https://localhost:8080/"
        },
        "id": "G0U3nf8C5Sdi",
        "outputId": "0f4582ce-8102-4a1d-8d1d-c2e8484e2247"
      },
      "execution_count": 48,
      "outputs": [
        {
          "output_type": "stream",
          "name": "stdout",
          "text": [
            "{50, 20, 40, 60}\n"
          ]
        }
      ]
    },
    {
      "cell_type": "code",
      "source": [
        "#(iii)\n",
        "S1 = {10, 20, 30, 40, 50, 60}\n",
        "if 40 in S1:\n",
        "    print(\"40 is present in S1.\")\n",
        "else:\n",
        "    print(\"40 is not present in S1.\")"
      ],
      "metadata": {
        "colab": {
          "base_uri": "https://localhost:8080/"
        },
        "id": "TJCDUWY65UXy",
        "outputId": "47225a7d-c4f9-4d05-bd4e-85543a0cffa6"
      },
      "execution_count": 49,
      "outputs": [
        {
          "output_type": "stream",
          "name": "stdout",
          "text": [
            "40 is present in S1.\n"
          ]
        }
      ]
    },
    {
      "cell_type": "code",
      "source": [
        "#(iv)\n",
        "S1 = {10, 20, 30, 40, 50, 60}\n",
        "S2 = {40, 50, 60, 70, 80, 90}\n",
        "union_set = S1.union(S2)\n",
        "print(\"Union of S1 and S2:\", union_set)"
      ],
      "metadata": {
        "colab": {
          "base_uri": "https://localhost:8080/"
        },
        "id": "HWPYXEwP5V4K",
        "outputId": "abaad1ca-5fb6-4851-d589-bfb92e83de82"
      },
      "execution_count": 50,
      "outputs": [
        {
          "output_type": "stream",
          "name": "stdout",
          "text": [
            "Union of S1 and S2: {70, 40, 10, 80, 50, 20, 90, 60, 30}\n"
          ]
        }
      ]
    },
    {
      "cell_type": "code",
      "source": [
        "#(v)\n",
        "S1 = {10, 20, 30, 40, 50, 60}\n",
        "S2 = {40, 50, 60, 70, 80, 90}\n",
        "intersection_set = S1.intersection(S2)\n",
        "print(\"Intersection of S1 and S2:\", intersection_set)"
      ],
      "metadata": {
        "colab": {
          "base_uri": "https://localhost:8080/"
        },
        "id": "cbgRsp_D5gLP",
        "outputId": "64a32d87-738d-41f9-bfa6-b88cac35ee5b"
      },
      "execution_count": 51,
      "outputs": [
        {
          "output_type": "stream",
          "name": "stdout",
          "text": [
            "Intersection of S1 and S2: {40, 50, 60}\n"
          ]
        }
      ]
    },
    {
      "cell_type": "code",
      "source": [
        "#(vi)\n",
        "S1 = {10, 20, 30, 40, 50, 60}\n",
        "S2 = {40, 50, 60, 70, 80, 90}\n",
        "difference_set = S1.difference(S2)\n",
        "print(\"Difference S1 - S2:\", difference_set)"
      ],
      "metadata": {
        "colab": {
          "base_uri": "https://localhost:8080/"
        },
        "id": "4N-oTIY85i5i",
        "outputId": "1ac77904-814f-4781-8440-1d4b360b949f"
      },
      "execution_count": 52,
      "outputs": [
        {
          "output_type": "stream",
          "name": "stdout",
          "text": [
            "Difference S1 - S2: {10, 20, 30}\n"
          ]
        }
      ]
    },
    {
      "cell_type": "markdown",
      "source": [
        "Q4 (i) WAP to print 100 random strings whose length between 6 and 8"
      ],
      "metadata": {
        "id": "EUlgUlFl5l8N"
      }
    },
    {
      "cell_type": "code",
      "source": [
        "import random\n",
        "import string\n",
        "\n",
        "def generate_random_string(length):\n",
        "    characters = string.ascii_letters + string.digits\n",
        "    return ''.join(random.choice(characters) for i in range(length))\n",
        "\n",
        "print(\"100 random strings:\")\n",
        "for _ in range(100):\n",
        "    length = random.randint(6, 8)\n",
        "    print(generate_random_string(length))"
      ],
      "metadata": {
        "colab": {
          "base_uri": "https://localhost:8080/"
        },
        "id": "svRPg7nC5mpr",
        "outputId": "6e0db904-56bf-464a-d427-632c7fa7b405"
      },
      "execution_count": 53,
      "outputs": [
        {
          "output_type": "stream",
          "name": "stdout",
          "text": [
            "100 random strings:\n",
            "3bunulL6\n",
            "G6iVUA\n",
            "H9dEFsFa\n",
            "wzqNS9R\n",
            "8dFnwo2\n",
            "zNHjgwd\n",
            "NXXITe\n",
            "MYbmPhW\n",
            "scHfCG\n",
            "bgTlYzvV\n",
            "ggiHp5c\n",
            "ias6WW\n",
            "1eoWR5\n",
            "D1oIFOcU\n",
            "iWmjwZk\n",
            "Z8QC8TLO\n",
            "N1sGoi4m\n",
            "vGKIZowL\n",
            "dfFpyV\n",
            "yADAbSV\n",
            "S6bJfBze\n",
            "H1D1ALgc\n",
            "eu8Of8FX\n",
            "aACrGU\n",
            "Msqwzj\n",
            "NQdAuK\n",
            "fzM3ctX2\n",
            "E491Rvx\n",
            "EuYh86j\n",
            "IW9Y1BI\n",
            "1FvCTZ\n",
            "FLfyaeY\n",
            "CTtgKzsN\n",
            "AjWBP0Cn\n",
            "xV6dQei7\n",
            "3xAaIyYh\n",
            "V2UAsTQ\n",
            "2bLNIvT\n",
            "i2nec6\n",
            "OyL6HHBC\n",
            "AHSjoGr\n",
            "EIc0AzSv\n",
            "QiF0aa\n",
            "CrD7pO0\n",
            "4s1hq1ws\n",
            "mtXYLgTy\n",
            "2EdAJMX1\n",
            "452ANnw\n",
            "ZDoon3oq\n",
            "5xaC3z\n",
            "pkVgHf9F\n",
            "EnAck9w\n",
            "Xqpfw9u9\n",
            "YRrXjf5\n",
            "xEobFV\n",
            "4uMIww3\n",
            "0qDvcpZ0\n",
            "Kv6FvA\n",
            "8XStvTE\n",
            "bEwOrqX\n",
            "xvQvkw\n",
            "cNdFvcJ\n",
            "AoY7Hi2t\n",
            "3RXvbs\n",
            "TXylQYAm\n",
            "1yvJdh7l\n",
            "P7xPQXO\n",
            "WpcKvOU\n",
            "2izWmB4\n",
            "GTDTUYEM\n",
            "1T1UBa\n",
            "DrzrymCE\n",
            "XKbhnTyp\n",
            "mZfa6K\n",
            "WF5RrIxH\n",
            "KksZh2mZ\n",
            "zyJetu\n",
            "g9dGjrwX\n",
            "5HX8gH\n",
            "UlyWq0fZ\n",
            "5mfTnDBE\n",
            "39xDg7\n",
            "zYJqM0Zb\n",
            "wk4rbU\n",
            "nMHeTu\n",
            "kTfq1qF\n",
            "8Qvn3l\n",
            "NMEYr33\n",
            "3ScJTamV\n",
            "5OdOaf\n",
            "hTYxlCOr\n",
            "d1GsJF\n",
            "c80a5e2\n",
            "Cs5s8PG\n",
            "qQ4XPs7Z\n",
            "KHad3ziN\n",
            "mIhnxpN\n",
            "JY9dqk8\n",
            "LzmgmO\n",
            "BDZUcsHo\n"
          ]
        }
      ]
    },
    {
      "cell_type": "markdown",
      "source": [
        "(ii) WAP to print all prime numbers between 600 and 800."
      ],
      "metadata": {
        "id": "7Dq-_hu75tr2"
      }
    },
    {
      "cell_type": "code",
      "source": [
        "def is_prime(n):\n",
        "    if n <= 1:\n",
        "        return False\n",
        "    for i in range(2, int(n**0.5) + 1):\n",
        "        if n % i == 0:\n",
        "            return False\n",
        "    return True\n",
        "\n",
        "print(\"Prime numbers between 600 and 800:\")\n",
        "for num in range(600, 801):\n",
        "    if is_prime(num):\n",
        "        print(num)"
      ],
      "metadata": {
        "colab": {
          "base_uri": "https://localhost:8080/"
        },
        "id": "h3bjDihH5vv_",
        "outputId": "16e7b26d-617e-4ab5-acd2-751071126c0d"
      },
      "execution_count": 54,
      "outputs": [
        {
          "output_type": "stream",
          "name": "stdout",
          "text": [
            "Prime numbers between 600 and 800:\n",
            "601\n",
            "607\n",
            "613\n",
            "617\n",
            "619\n",
            "631\n",
            "641\n",
            "643\n",
            "647\n",
            "653\n",
            "659\n",
            "661\n",
            "673\n",
            "677\n",
            "683\n",
            "691\n",
            "701\n",
            "709\n",
            "719\n",
            "727\n",
            "733\n",
            "739\n",
            "743\n",
            "751\n",
            "757\n",
            "761\n",
            "769\n",
            "773\n",
            "787\n",
            "797\n"
          ]
        }
      ]
    },
    {
      "cell_type": "markdown",
      "source": [
        "(iii) WAP to print all numbers between 100 and 1000 that are divisible by 7 and 9."
      ],
      "metadata": {
        "id": "Fds3Qx-15xoQ"
      }
    },
    {
      "cell_type": "code",
      "source": [
        "print(\"Numbers between 100 and 1000 divisible by 7 and 9:\")\n",
        "for num in range(100, 1001):\n",
        "    if num % 7 == 0 and num % 9 == 0:\n",
        "        print(num)"
      ],
      "metadata": {
        "colab": {
          "base_uri": "https://localhost:8080/"
        },
        "id": "MrM_jPxS50F5",
        "outputId": "7d4e9620-7dc2-436c-9f86-28cebba9e146"
      },
      "execution_count": 55,
      "outputs": [
        {
          "output_type": "stream",
          "name": "stdout",
          "text": [
            "Numbers between 100 and 1000 divisible by 7 and 9:\n",
            "126\n",
            "189\n",
            "252\n",
            "315\n",
            "378\n",
            "441\n",
            "504\n",
            "567\n",
            "630\n",
            "693\n",
            "756\n",
            "819\n",
            "882\n",
            "945\n"
          ]
        }
      ]
    },
    {
      "cell_type": "markdown",
      "source": [
        "Q5. WAP to create two lists of 10 random numbers between 10 and 30; Find"
      ],
      "metadata": {
        "id": "FIqdaNVU74Fe"
      }
    },
    {
      "cell_type": "code",
      "source": [
        "import random\n",
        "\n",
        "list1 = [random.randint(10, 30) for _ in range(10)]\n",
        "list2 = [random.randint(10, 30) for _ in range(10)]\n",
        "\n",
        "print(\"List 1:\", list1)\n",
        "print(\"List 2:\", list2)\n",
        "\n",
        "# (i) Common numbers\n",
        "set1 = set(list1)\n",
        "set2 = set(list2)\n",
        "common_numbers = list(set1.intersection(set2))\n",
        "print(\"Common numbers:\", common_numbers)\n",
        "\n",
        "# (ii) Unique numbers in both lists\n",
        "unique_numbers = list(set1.symmetric_difference(set2))\n",
        "print(\"Unique numbers in both lists:\", unique_numbers)\n",
        "\n",
        "# (iii) Minimum in both lists\n",
        "min_in_list1 = min(list1)\n",
        "min_in_list2 = min(list2)\n",
        "print(\"Minimum in List 1:\", min_in_list1)\n",
        "print(\"Minimum in List 2:\", min_in_list2)\n",
        "print(\"Minimum in both lists (overall):\", min(min_in_list1, min_in_list2))\n",
        "\n",
        "\n",
        "# (iv) Maximum in both lists\n",
        "max_in_list1 = max(list1)\n",
        "max_in_list2 = max(list2)\n",
        "print(\"Maximum in List 1:\", max_in_list1)\n",
        "print(\"Maximum in List 2:\", max_in_list2)\n",
        "print(\"Maximum in both lists (overall):\", max(max_in_list1, max_in_list2))\n",
        "\n"
      ],
      "metadata": {
        "colab": {
          "base_uri": "https://localhost:8080/"
        },
        "id": "Y1M4VM4l77Oj",
        "outputId": "f0a97b16-2127-42c9-e17f-e1265f131568"
      },
      "execution_count": 67,
      "outputs": [
        {
          "output_type": "stream",
          "name": "stdout",
          "text": [
            "List 1: [25, 19, 27, 21, 28, 28, 15, 21, 28, 25]\n",
            "List 2: [18, 13, 27, 19, 23, 30, 26, 22, 10, 19]\n",
            "Common numbers: [27, 19]\n",
            "Unique numbers in both lists: [10, 13, 15, 18, 21, 22, 23, 25, 26, 28, 30]\n",
            "Minimum in List 1: 15\n",
            "Minimum in List 2: 10\n",
            "Minimum in both lists (overall): 10\n",
            "Maximum in List 1: 28\n",
            "Maximum in List 2: 30\n",
            "Maximum in both lists (overall): 30\n"
          ]
        }
      ]
    },
    {
      "cell_type": "markdown",
      "source": [
        "Q6. WAP to create a list of 100 random numbers between 100 and 900. Count and print the:"
      ],
      "metadata": {
        "id": "grLVlYfo6Cqm"
      }
    },
    {
      "cell_type": "code",
      "source": [
        "import random\n",
        "\n",
        "def is_prime(n):\n",
        "    if n <= 1:\n",
        "        return False\n",
        "    for i in range(2, int(n**0.5) + 1):\n",
        "        if n % i == 0:\n",
        "            return False\n",
        "    return True\n",
        "\n",
        "random_numbers = [random.randint(100, 900) for _ in range(100)]\n",
        "\n",
        "odd_numbers = []\n",
        "even_numbers = []\n",
        "prime_numbers = []\n",
        "\n",
        "for num in random_numbers:\n",
        "    if num % 2 != 0:\n",
        "        odd_numbers.append(num)\n",
        "    else:\n",
        "        even_numbers.append(num)\n",
        "    if is_prime(num):\n",
        "        prime_numbers.append(num)\n",
        "\n",
        "print(\"Total random numbers generated:\", len(random_numbers))\n",
        "print(\"Count of Odd numbers:\", len(odd_numbers))\n",
        "print(\"Odd numbers:\", odd_numbers)\n",
        "print(\"Count of Even numbers:\", len(even_numbers))\n",
        "print(\"Even numbers:\", even_numbers)\n",
        "print(\"Count of Prime numbers:\", len(prime_numbers))\n",
        "print(\"Prime numbers:\", prime_numbers)"
      ],
      "metadata": {
        "colab": {
          "base_uri": "https://localhost:8080/"
        },
        "id": "8hOKsq8p6GBv",
        "outputId": "3f7e4912-3ba9-4fe7-e52a-7b584d1faf97"
      },
      "execution_count": 57,
      "outputs": [
        {
          "output_type": "stream",
          "name": "stdout",
          "text": [
            "Total random numbers generated: 100\n",
            "Count of Odd numbers: 50\n",
            "Odd numbers: [857, 477, 299, 579, 169, 879, 151, 737, 319, 573, 801, 755, 707, 687, 351, 649, 383, 431, 141, 643, 471, 103, 215, 149, 753, 195, 893, 775, 275, 453, 273, 639, 455, 499, 613, 833, 719, 517, 253, 233, 111, 179, 783, 295, 755, 311, 603, 491, 733, 191]\n",
            "Count of Even numbers: 50\n",
            "Even numbers: [834, 686, 788, 398, 554, 542, 634, 470, 624, 432, 822, 204, 616, 624, 690, 666, 650, 672, 218, 578, 610, 128, 470, 322, 890, 278, 608, 792, 130, 498, 696, 646, 870, 134, 304, 612, 556, 228, 900, 462, 276, 180, 404, 130, 816, 494, 850, 596, 744, 420]\n",
            "Count of Prime numbers: 16\n",
            "Prime numbers: [857, 151, 383, 431, 643, 103, 149, 499, 613, 719, 233, 179, 311, 491, 733, 191]\n"
          ]
        }
      ]
    },
    {
      "cell_type": "markdown",
      "source": [
        "Q7. D is a dictionary defined as D={1:\"One\",2:\"Two\",3:\"Three\",4:\"Four\", 5:\"Five\"}.\n",
        "WAP to read all the keys and values from dictionary and write to the file in the given below format.\n",
        "Key1, Value1\n",
        "Key2, Value2\n",
        "Key3, Value3"
      ],
      "metadata": {
        "id": "uZYgcbXN6IfN"
      }
    },
    {
      "cell_type": "code",
      "source": [
        "D = {1: \"One\", 2: \"Two\", 3: \"Three\", 4: \"Four\", 5: \"Five\"}\n",
        "\n",
        "with open(\"dictionary_output.txt\", \"w\") as file:\n",
        "    for key, value in D.items():\n",
        "        file.write(f\"{key}, {value}\\n\")\n",
        "\n",
        "print(\"Keys and values written to 'dictionary_output.txt'\")"
      ],
      "metadata": {
        "colab": {
          "base_uri": "https://localhost:8080/"
        },
        "id": "lp1UBc9G6I4R",
        "outputId": "97bd158e-8f00-4b67-b560-2805d60a784b"
      },
      "execution_count": 58,
      "outputs": [
        {
          "output_type": "stream",
          "name": "stdout",
          "text": [
            "Keys and values written to 'dictionary_output.txt'\n"
          ]
        }
      ]
    },
    {
      "cell_type": "markdown",
      "source": [
        "Q8. L is a list defined as L={\"One\",\"Two\",\"Three\",\"Four\",\"Five\"}.\n",
        "WAP to count the length of reach element from a list and write to the file in the given below format:\n",
        "One, 3\n",
        "Two, 3\n",
        "Four, 4"
      ],
      "metadata": {
        "id": "MJnwiUkO6OO3"
      }
    },
    {
      "cell_type": "code",
      "source": [
        "L = [\"One\", \"Two\", \"Three\", \"Four\", \"Five\"]\n",
        "\n",
        "with open(\"list_element_lengths.txt\", \"w\") as file:\n",
        "    for element in L:\n",
        "        file.write(f\"{element}, {len(element)}\\n\")\n",
        "\n",
        "print(\"Element lengths written to 'list_element_lengths.txt'\")"
      ],
      "metadata": {
        "colab": {
          "base_uri": "https://localhost:8080/"
        },
        "id": "Sk7ysRSM6SeI",
        "outputId": "020e5aad-f406-4323-e2b5-59680668beef"
      },
      "execution_count": 59,
      "outputs": [
        {
          "output_type": "stream",
          "name": "stdout",
          "text": [
            "Element lengths written to 'list_element_lengths.txt'\n"
          ]
        }
      ]
    },
    {
      "cell_type": "markdown",
      "source": [
        "Q9. Write to the file 100 random strings whose length between 10 and 15."
      ],
      "metadata": {
        "id": "YQqW_Uex6VXb"
      }
    },
    {
      "cell_type": "code",
      "source": [
        "import random\n",
        "import string\n",
        "\n",
        "def generate_random_string(length):\n",
        "    characters = string.ascii_letters + string.digits\n",
        "    return ''.join(random.choice(characters) for i in range(length))\n",
        "\n",
        "with open(\"random_strings.txt\", \"w\") as file:\n",
        "    for _ in range(100):\n",
        "        length = random.randint(10, 15)\n",
        "        file.write(generate_random_string(length) + \"\\n\")\n",
        "\n",
        "print(\"100 random strings written to 'random_strings.txt'\")"
      ],
      "metadata": {
        "colab": {
          "base_uri": "https://localhost:8080/"
        },
        "id": "ghYUvuZF6VsK",
        "outputId": "46b49c60-f91b-4c38-8ae2-6d5db99024cd"
      },
      "execution_count": 60,
      "outputs": [
        {
          "output_type": "stream",
          "name": "stdout",
          "text": [
            "100 random strings written to 'random_strings.txt'\n"
          ]
        }
      ]
    },
    {
      "cell_type": "markdown",
      "source": [
        "Q10. Write to the file all prime numbers between 600 and 800."
      ],
      "metadata": {
        "id": "deiQTJwa6YLR"
      }
    },
    {
      "cell_type": "code",
      "source": [
        "def is_prime(n):\n",
        "    if n <= 1:\n",
        "        return False\n",
        "    for i in range(2, int(n**0.5) + 1):\n",
        "        if n % i == 0:\n",
        "            return False\n",
        "    return True\n",
        "\n",
        "with open(\"prime_numbers_600_800.txt\", \"w\") as file:\n",
        "    for num in range(600, 801):\n",
        "        if is_prime(num):\n",
        "            file.write(str(num) + \"\\n\")\n",
        "\n",
        "print(\"Prime numbers between 600 and 800 written to 'prime_numbers_600_800.txt'\")"
      ],
      "metadata": {
        "colab": {
          "base_uri": "https://localhost:8080/"
        },
        "id": "_Qo0u_SV6amg",
        "outputId": "a4cd3721-b49f-49bb-88d3-f7acb4fa4003"
      },
      "execution_count": 61,
      "outputs": [
        {
          "output_type": "stream",
          "name": "stdout",
          "text": [
            "Prime numbers between 600 and 800 written to 'prime_numbers_600_800.txt'\n"
          ]
        }
      ]
    },
    {
      "cell_type": "markdown",
      "source": [
        "Q11. WAP to calculate the time taken by a program."
      ],
      "metadata": {
        "id": "UbmwzVoE6b-T"
      }
    },
    {
      "cell_type": "code",
      "source": [
        "import time\n",
        "\n",
        "# Example program whose time needs to be calculated\n",
        "def example_function():\n",
        "    sum_val = 0\n",
        "    for i in range(1, 1000000):\n",
        "        sum_val += i\n",
        "    return sum_val\n",
        "\n",
        "start_time = time.time()\n",
        "result = example_function()\n",
        "end_time = time.time()\n",
        "\n",
        "time_taken = end_time - start_time\n",
        "print(f\"Result of example function: {result}\")\n",
        "print(f\"Time taken by the program: {time_taken:.6f} seconds\")"
      ],
      "metadata": {
        "colab": {
          "base_uri": "https://localhost:8080/"
        },
        "id": "fLGfBbdQ6cgw",
        "outputId": "a7b14382-a0e8-436d-9b94-2cb18aec8f31"
      },
      "execution_count": 62,
      "outputs": [
        {
          "output_type": "stream",
          "name": "stdout",
          "text": [
            "Result of example function: 499999500000\n",
            "Time taken by the program: 0.029560 seconds\n"
          ]
        }
      ]
    },
    {
      "cell_type": "code",
      "source": [],
      "metadata": {
        "id": "5rScLuRW7OAx"
      },
      "execution_count": 63,
      "outputs": []
    }
  ]
}